{
 "cells": [
  {
   "cell_type": "code",
   "execution_count": 1,
   "metadata": {},
   "outputs": [
    {
     "data": {
      "text/plain": [
       "datetime.datetime(2018, 7, 4, 0, 0)"
      ]
     },
     "execution_count": 1,
     "metadata": {},
     "output_type": "execute_result"
    }
   ],
   "source": [
    "from datetime import datetime\n",
    "datetime(year=2018, month=7, day=4)\n",
    "from dateutil import parser\n",
    "date = parser.parse(\"4th of July, 2018\")\n",
    "date"
   ]
  },
  {
   "cell_type": "code",
   "execution_count": 2,
   "metadata": {},
   "outputs": [
    {
     "data": {
      "text/plain": [
       "'Wednesday'"
      ]
     },
     "execution_count": 2,
     "metadata": {},
     "output_type": "execute_result"
    }
   ],
   "source": [
    "date.strftime('%A')"
   ]
  },
  {
   "cell_type": "code",
   "execution_count": 3,
   "metadata": {
    "collapsed": true
   },
   "outputs": [],
   "source": [
    "import numpy as np"
   ]
  },
  {
   "cell_type": "code",
   "execution_count": 5,
   "metadata": {},
   "outputs": [
    {
     "data": {
      "text/plain": [
       "array(datetime.date(2018, 7, 4), dtype='datetime64[D]')"
      ]
     },
     "execution_count": 5,
     "metadata": {},
     "output_type": "execute_result"
    }
   ],
   "source": [
    "date = np.array('2018-07-04', dtype=np.datetime64)\n",
    "date"
   ]
  },
  {
   "cell_type": "code",
   "execution_count": 7,
   "metadata": {},
   "outputs": [
    {
     "data": {
      "text/plain": [
       "array(['2018-07-04', '2018-07-03', '2018-07-02', '2018-07-01',\n",
       "       '2018-06-30', '2018-06-29', '2018-06-28', '2018-06-27',\n",
       "       '2018-06-26', '2018-06-25', '2018-06-24', '2018-06-23',\n",
       "       '2018-06-22', '2018-06-21', '2018-06-20', '2018-06-19',\n",
       "       '2018-06-18', '2018-06-17', '2018-06-16', '2018-06-15',\n",
       "       '2018-06-14', '2018-06-13', '2018-06-12', '2018-06-11',\n",
       "       '2018-06-10', '2018-06-09', '2018-06-08', '2018-06-07',\n",
       "       '2018-06-06', '2018-06-05', '2018-06-04', '2018-06-03',\n",
       "       '2018-06-02', '2018-06-01', '2018-05-31', '2018-05-30',\n",
       "       '2018-05-29', '2018-05-28', '2018-05-27', '2018-05-26',\n",
       "       '2018-05-25', '2018-05-24', '2018-05-23', '2018-05-22',\n",
       "       '2018-05-21', '2018-05-20', '2018-05-19', '2018-05-18',\n",
       "       '2018-05-17', '2018-05-16', '2018-05-15', '2018-05-14',\n",
       "       '2018-05-13', '2018-05-12', '2018-05-11', '2018-05-10',\n",
       "       '2018-05-09', '2018-05-08', '2018-05-07', '2018-05-06'], dtype='datetime64[D]')"
      ]
     },
     "execution_count": 7,
     "metadata": {},
     "output_type": "execute_result"
    }
   ],
   "source": [
    "date - np.arange(60)"
   ]
  },
  {
   "cell_type": "code",
   "execution_count": 8,
   "metadata": {},
   "outputs": [
    {
     "data": {
      "text/plain": [
       "numpy.datetime64('2018-07-04T13:00')"
      ]
     },
     "execution_count": 8,
     "metadata": {},
     "output_type": "execute_result"
    }
   ],
   "source": [
    "np.datetime64('2018-07-04 13:00')"
   ]
  },
  {
   "cell_type": "code",
   "execution_count": 11,
   "metadata": {},
   "outputs": [
    {
     "data": {
      "text/plain": [
       "Timestamp('2018-07-04 00:00:00')"
      ]
     },
     "execution_count": 11,
     "metadata": {},
     "output_type": "execute_result"
    }
   ],
   "source": [
    "import pandas as pd\n",
    "date = pd.to_datetime(\"4th of July, 2018\")\n",
    "date"
   ]
  },
  {
   "cell_type": "code",
   "execution_count": 12,
   "metadata": {},
   "outputs": [
    {
     "data": {
      "text/plain": [
       "'Wednesday'"
      ]
     },
     "execution_count": 12,
     "metadata": {},
     "output_type": "execute_result"
    }
   ],
   "source": [
    "date.strftime('%A')"
   ]
  },
  {
   "cell_type": "code",
   "execution_count": 26,
   "metadata": {},
   "outputs": [
    {
     "data": {
      "text/plain": [
       "DatetimeIndex(['2018-07-04', '2018-07-03', '2018-07-02', '2018-07-01',\n",
       "               '2018-06-30', '2018-06-29', '2018-06-28', '2018-06-27',\n",
       "               '2018-06-26', '2018-06-25', '2018-06-24', '2018-06-23'],\n",
       "              dtype='datetime64[ns]', freq=None)"
      ]
     },
     "execution_count": 26,
     "metadata": {},
     "output_type": "execute_result"
    }
   ],
   "source": [
    "date - pd.to_timedelta(np.arange(12), 'D')"
   ]
  },
  {
   "cell_type": "code",
   "execution_count": 20,
   "metadata": {},
   "outputs": [
    {
     "data": {
      "text/plain": [
       "DatetimeIndex(['2018-07-03', '2018-07-04', '2018-07-06', '2018-07-07',\n",
       "               '2018-07-08'],\n",
       "              dtype='datetime64[ns]', freq=None)"
      ]
     },
     "execution_count": 20,
     "metadata": {},
     "output_type": "execute_result"
    }
   ],
   "source": [
    "dates = pd.to_datetime([datetime(2018, 7, 3), '4th of July, 2018',\n",
    "                       '2018-Jul-6', '07-07-2018', '20180708'])\n",
    "dates"
   ]
  },
  {
   "cell_type": "code",
   "execution_count": 21,
   "metadata": {},
   "outputs": [
    {
     "data": {
      "text/plain": [
       "PeriodIndex(['2018-07-03', '2018-07-04', '2018-07-06', '2018-07-07',\n",
       "             '2018-07-08'],\n",
       "            dtype='period[D]', freq='D')"
      ]
     },
     "execution_count": 21,
     "metadata": {},
     "output_type": "execute_result"
    }
   ],
   "source": [
    "dates.to_period('D')"
   ]
  },
  {
   "cell_type": "code",
   "execution_count": 24,
   "metadata": {},
   "outputs": [
    {
     "data": {
      "text/plain": [
       "DatetimeIndex(['2018-07-03 00:00:00', '2018-07-03 01:00:00',\n",
       "               '2018-07-03 02:00:00', '2018-07-03 03:00:00',\n",
       "               '2018-07-03 04:00:00', '2018-07-03 05:00:00',\n",
       "               '2018-07-03 06:00:00', '2018-07-03 07:00:00'],\n",
       "              dtype='datetime64[ns]', freq='H')"
      ]
     },
     "execution_count": 24,
     "metadata": {},
     "output_type": "execute_result"
    }
   ],
   "source": [
    "pd.date_range('2018-07-03', periods=8, freq='H')"
   ]
  },
  {
   "cell_type": "code",
   "execution_count": 25,
   "metadata": {},
   "outputs": [
    {
     "data": {
      "text/plain": [
       "DatetimeIndex(['2018-07-03', '2018-07-04', '2018-07-05', '2018-07-06',\n",
       "               '2018-07-09', '2018-07-10', '2018-07-11', '2018-07-12'],\n",
       "              dtype='datetime64[ns]', freq='B')"
      ]
     },
     "execution_count": 25,
     "metadata": {},
     "output_type": "execute_result"
    }
   ],
   "source": [
    "pd.date_range('2018-07-03', periods=8, freq='B')"
   ]
  },
  {
   "cell_type": "code",
   "execution_count": null,
   "metadata": {
    "collapsed": true
   },
   "outputs": [],
   "source": []
  }
 ],
 "metadata": {
  "kernelspec": {
   "display_name": "Python 3",
   "language": "python",
   "name": "python3"
  },
  "language_info": {
   "codemirror_mode": {
    "name": "ipython",
    "version": 3
   },
   "file_extension": ".py",
   "mimetype": "text/x-python",
   "name": "python",
   "nbconvert_exporter": "python",
   "pygments_lexer": "ipython3",
   "version": "3.6.3"
  }
 },
 "nbformat": 4,
 "nbformat_minor": 2
}
